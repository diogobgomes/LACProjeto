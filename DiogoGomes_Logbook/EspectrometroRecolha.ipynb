{
 "cells": [
  {
   "cell_type": "code",
   "execution_count": 3,
   "id": "640a0e41",
   "metadata": {
    "ExecuteTime": {
     "end_time": "2021-06-23T12:24:14.422500Z",
     "start_time": "2021-06-23T12:24:14.401820Z"
    }
   },
   "outputs": [],
   "source": [
    "# Inicialização\n",
    "\n",
    "import numpy as np\n",
    "import numpy.random as rd\n",
    "import matplotlib.pyplot as plt\n",
    "import serial\n",
    "import time\n",
    "import scipy.signal as sig\n",
    "import pandas as pd\n",
    "\n",
    "from matplotlib import animation, rc\n",
    "from IPython.display import HTML\n",
    "\n",
    "import scipy.optimize as opt\n",
    "\n",
    "%matplotlib notebook\n",
    "\n",
    "ser = serial.Serial('/dev/ttyUSB0',115200)"
   ]
  },
  {
   "cell_type": "markdown",
   "id": "9a525206",
   "metadata": {},
   "source": [
    "# Leitura em Tempo Real"
   ]
  },
  {
   "cell_type": "code",
   "execution_count": null,
   "id": "13816c59",
   "metadata": {},
   "outputs": [],
   "source": [
    "spec =288\n",
    "\n",
    "pix= np.arange(0,288)\n",
    "\n",
    "# Make sure to clear serial backlog\n",
    "ser.flushInput()\n",
    "ser.readline()\n",
    "ser.readline()\n",
    "\n",
    "fig = plt.figure()\n",
    "ax = fig.add_subplot(111)\n",
    "\n",
    "plt.ion()\n",
    "\n",
    "plt.xlim(340,850)\n",
    "\n",
    "\n",
    "fig.show()\n",
    "fig.canvas.draw()\n",
    "\n",
    "# Draw graph\n",
    "while(True):\n",
    "    # Get values\n",
    "    b = ser.readline()\n",
    "    string_n = b.decode()\n",
    "    string = string_n.rstrip()\n",
    "    val = list(map(int,string[0:-1].split(',')))\n",
    "    \n",
    "    # Draw graph\n",
    "    ax.clear()\n",
    "    ax.set_ylim(0,1000)\n",
    "    ax.plot(pix,val)\n",
    "    fig.canvas.draw()"
   ]
  },
  {
   "cell_type": "markdown",
   "id": "77e8b460",
   "metadata": {},
   "source": [
    "# Recolha de um Espectro (Exemplo)"
   ]
  },
  {
   "cell_type": "code",
   "execution_count": null,
   "id": "cb820200",
   "metadata": {},
   "outputs": [],
   "source": [
    "ser.flushInput()\n",
    "b = ser.readline()\n",
    "x = np.linspace(340,850,288)\n",
    "\n",
    "b = ser.readline()\n",
    "string_n = b.decode()\n",
    "string = string_n.rstrip()\n",
    "val = np.array(list(map(int,string[0:-1].split(','))))\n",
    "\n",
    "np.savetxt(\"data\", val)"
   ]
  }
 ],
 "metadata": {
  "kernelspec": {
   "display_name": "Python 3",
   "language": "python",
   "name": "python3"
  },
  "language_info": {
   "codemirror_mode": {
    "name": "ipython",
    "version": 3
   },
   "file_extension": ".py",
   "mimetype": "text/x-python",
   "name": "python",
   "nbconvert_exporter": "python",
   "pygments_lexer": "ipython3",
   "version": "3.9.5"
  },
  "varInspector": {
   "cols": {
    "lenName": 16,
    "lenType": 16,
    "lenVar": 40
   },
   "kernels_config": {
    "python": {
     "delete_cmd_postfix": "",
     "delete_cmd_prefix": "del ",
     "library": "var_list.py",
     "varRefreshCmd": "print(var_dic_list())"
    },
    "r": {
     "delete_cmd_postfix": ") ",
     "delete_cmd_prefix": "rm(",
     "library": "var_list.r",
     "varRefreshCmd": "cat(var_dic_list()) "
    }
   },
   "types_to_exclude": [
    "module",
    "function",
    "builtin_function_or_method",
    "instance",
    "_Feature"
   ],
   "window_display": false
  }
 },
 "nbformat": 4,
 "nbformat_minor": 5
}
